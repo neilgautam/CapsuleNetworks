{
  "nbformat": 4,
  "nbformat_minor": 0,
  "metadata": {
    "colab": {
      "name": "CapsuleNetwork Implementation.ipynb",
      "provenance": [],
      "collapsed_sections": []
    },
    "kernelspec": {
      "name": "python3",
      "display_name": "Python 3"
    },
    "accelerator": "GPU"
  },
  "cells": [
    {
      "cell_type": "code",
      "metadata": {
        "id": "JdKN8CiXF55G"
      },
      "source": [
        "import numpy as np\n",
        "import pandas as pd\n",
        "import tensorflow as tf\n",
        "from tensorflow.keras.layers import *\n",
        "from tensorflow.keras.models import *\n",
        "from tensorflow.keras.datasets import *\n",
        "import cv2\n",
        "import sklearn\n",
        "import matplotlib.pyplot as plt\n",
        "import os\n",
        "tf.compat.v1.disable_eager_execution()"
      ],
      "execution_count": 13,
      "outputs": []
    },
    {
      "cell_type": "code",
      "metadata": {
        "id": "hbGJGNYmGW7v"
      },
      "source": [
        "def load_mnist(is_training = True):\n",
        "    (x_train,y_train),(x_test,y_test) = mnist.load_data()\n",
        "    if is_training :\n",
        "        x_tr,y_tr,x_val,y_val = x_train[:55000]/255.0,y_train[:55000],x_train[55000:]/255.0,y_train[55000:]\n",
        "        return x_tr,y_tr,x_val,y_val\n",
        "    else:\n",
        "        return x_test,y_test"
      ],
      "execution_count": 14,
      "outputs": []
    },
    {
      "cell_type": "code",
      "metadata": {
        "id": "PhxhttcFGZOZ"
      },
      "source": [
        "def load_fashion(is_training = True):\n",
        "    (x_train,y_train),(x_test,y_test) = fashion_mnist.load_data()\n",
        "    if is_training :\n",
        "        x_tr,y_tr,x_val,y_val = x_train[:55000]/255.0,y_train[:55000],x_train[55000:]/255.0,y_train[55000:]\n",
        "        return x_tr,y_tr,x_val,y_val\n",
        "    else:\n",
        "        return x_test/255.0,y_test"
      ],
      "execution_count": 15,
      "outputs": []
    },
    {
      "cell_type": "code",
      "metadata": {
        "id": "aflywJ4nGa1d"
      },
      "source": [
        "def load_data(data_name,training = True):\n",
        "    if training== True:\n",
        "        if data_name == \"mnist\":\n",
        "            x_train,y_train,x_val,y_val = load_mnist(training)\n",
        "            return x_train,y_train,x_val,y_val\n",
        "        else:\n",
        "            x_train,y_train,x_val,y_val = load_fashion(training)\n",
        "            return x_train,y_train,x_val,y_val\n",
        "    else:\n",
        "        if data_name == \"mnist\":\n",
        "            x_test,y_test = load_minst(training)\n",
        "            return x_test,y_test\n",
        "        else:\n",
        "            x_test,y_test = load_fashion(training)\n",
        "            return x_test,y_test"
      ],
      "execution_count": 16,
      "outputs": []
    },
    {
      "cell_type": "code",
      "metadata": {
        "id": "OtxsHu2rGben"
      },
      "source": [
        "tf.compat.v1.reset_default_graph()"
      ],
      "execution_count": 17,
      "outputs": []
    },
    {
      "cell_type": "code",
      "metadata": {
        "id": "Wcq2eVVTGblm"
      },
      "source": [
        "np.random.seed(42)\n",
        "tf.compat.v1.set_random_seed(42)"
      ],
      "execution_count": 18,
      "outputs": []
    },
    {
      "cell_type": "code",
      "metadata": {
        "id": "G4HukTcuGb1P"
      },
      "source": [
        "x_train,y_train,x_val,y_val = load_data(\"mnist\")"
      ],
      "execution_count": 19,
      "outputs": []
    },
    {
      "cell_type": "code",
      "metadata": {
        "id": "6u6mKM8-GbyZ",
        "outputId": "636241b2-560f-43f1-9fad-1bd576964ec0",
        "colab": {
          "base_uri": "https://localhost:8080/",
          "height": 539
        }
      },
      "source": [
        "plt.figure(figsize = (9,9))\n",
        "img_idx = 0\n",
        "for i in range(16):\n",
        "    plt.subplot(4,4,i+1)\n",
        "    plt.imshow(x_train[img_idx])\n",
        "    img_idx +=1\n",
        "plt.show()"
      ],
      "execution_count": 20,
      "outputs": [
        {
          "output_type": "display_data",
          "data": {
            "image/png": "[encoded data removed]",
            "text/plain": [
              "<Figure size 648x648 with 16 Axes>"
            ]
          },
          "metadata": {
            "tags": [],
            "needs_background": "light"
          }
        }
      ]
    },
    {
      "cell_type": "code",
      "metadata": {
        "id": "NpY6RwF6Gbs8"
      },
      "source": [
        "caps1_n_maps = 32\n",
        "caps1_n_caps = caps1_n_maps*6*6\n",
        "caps1_n_dims = 8\n",
        "caps2_n_caps = 10\n",
        "caps2_n_dims = 16"
      ],
      "execution_count": 22,
      "outputs": []
    },
    {
      "cell_type": "code",
      "metadata": {
        "id": "-2AzNNskGbqf"
      },
      "source": [
        "conv1_params = {\n",
        "    \"strides\": 1,\n",
        "    \"filters\": 256,\n",
        "    \"padding\":\"VALID\",\n",
        "    \"activation\": \"relu\",\n",
        "    \"kernel_size\": 9\n",
        "}\n",
        "conv2_params = {\n",
        "    \"strides\": 2,\n",
        "    \"kernel_size\":9,\n",
        "    \"filters\": caps1_n_maps*caps1_n_dims,\n",
        "    \"padding\":\"VALID\",\n",
        "    \"activation\": \"relu\"\n",
        "}"
      ],
      "execution_count": 23,
      "outputs": []
    },
    {
      "cell_type": "code",
      "metadata": {
        "id": "0CIMsvp0Gbvv"
      },
      "source": [
        "X = tf.compat.v1.placeholder(shape = (None,28,28,1),dtype =tf.float32)"
      ],
      "execution_count": 21,
      "outputs": []
    },
    {
      "cell_type": "code",
      "metadata": {
        "id": "Tp7AjQeLGboz",
        "outputId": "e83afc04-2c31-4664-e6d4-8da2dca1da1a",
        "colab": {
          "base_uri": "https://localhost:8080/",
          "height": 149
        }
      },
      "source": [
        "conv1_layer = tf.compat.v1.layers.conv2d(X,**conv1_params)\n",
        "conv2_layer = tf.compat.v1.layers.conv2d(conv1_layer,**conv2_params)\n",
        "conv2_reshaped = tf.reshape(conv2_layer,shape= (-1,caps1_n_caps,caps1_n_dims))"
      ],
      "execution_count": 24,
      "outputs": [
        {
          "output_type": "stream",
          "text": [
            "WARNING:tensorflow:From <ipython-input-24-1df42419b657>:1: conv2d (from tensorflow.python.keras.legacy_tf_layers.convolutional) is deprecated and will be removed in a future version.\n",
            "Instructions for updating:\n",
            "Use `tf.keras.layers.Conv2D` instead.\n",
            "WARNING:tensorflow:From /usr/local/lib/python3.6/dist-packages/tensorflow/python/keras/legacy_tf_layers/convolutional.py:424: Layer.apply (from tensorflow.python.keras.engine.base_layer_v1) is deprecated and will be removed in a future version.\n",
            "Instructions for updating:\n",
            "Please use `layer.__call__` method instead.\n"
          ],
          "name": "stdout"
        }
      ]
    },
    {
      "cell_type": "code",
      "metadata": {
        "id": "9a-vFazHGbjT"
      },
      "source": [
        "def squash(s,axis = -1,epsilon = 1e-9):\n",
        "    with tf.compat.v1.name_scope(\"Squashing\"):\n",
        "        square = tf.reduce_sum(tf.square(s),axis = axis,keepdims = True)\n",
        "        norm = tf.sqrt(square+epsilon)\n",
        "        squashed = square/(1.+square)\n",
        "        squashed = squashed/norm\n",
        "        return s*squashed"
      ],
      "execution_count": 27,
      "outputs": []
    },
    {
      "cell_type": "code",
      "metadata": {
        "id": "UJ-yaCqfGbhg"
      },
      "source": [
        "caps1_output= squash(conv2_reshaped)"
      ],
      "execution_count": 28,
      "outputs": []
    },
    {
      "cell_type": "code",
      "metadata": {
        "id": "5bS_QKQmOSTm",
        "outputId": "96adb757-255c-4735-d2f5-180788edb10f",
        "colab": {
          "base_uri": "https://localhost:8080/",
          "height": 73
        }
      },
      "source": [
        "W_init = tf.compat.v1.random_normal(shape = (1,caps1_n_caps,caps2_n_caps,caps2_n_dims,caps1_n_dims))\n",
        "W = tf.Variable(W_init,name = \"WeightMatrix\")\n",
        "batch_shape = tf.shape(X)[0]\n",
        "W_tiled = tf.tile(W,[batch_shape,1,1,1,1],name = \"W_tiled\")\n",
        "\n",
        "print(W_tiled)\n",
        "\n",
        "caps1_output_exp = tf.expand_dims(caps1_output,axis = -1)\n",
        "caps1_output_exp = tf.expand_dims(caps1_output_exp,axis = 2)\n",
        "caps1_output_ = tf.tile(caps1_output_exp,[1,1,caps2_n_caps,1,1])\n",
        "\n",
        "print(caps1_output_)\n",
        "\n",
        "caps_predicted = tf.matmul(W_tiled,caps1_output_)\n",
        "\n",
        "print(caps_predicted)"
      ],
      "execution_count": 29,
      "outputs": [
        {
          "output_type": "stream",
          "text": [
            "Tensor(\"W_tiled:0\", shape=(None, 1152, 10, 16, 8), dtype=float32)\n",
            "Tensor(\"Tile:0\", shape=(None, 1152, 10, 8, 1), dtype=float32)\n",
            "Tensor(\"MatMul:0\", shape=(None, 1152, 10, 16, 1), dtype=float32)\n"
          ],
          "name": "stdout"
        }
      ]
    },
    {
      "cell_type": "markdown",
      "metadata": {
        "id": "tErpKGmLUlvh"
      },
      "source": [
        "#Routing By Agreement Implementation"
      ]
    },
    {
      "cell_type": "code",
      "metadata": {
        "id": "UUyg9i4oUE31"
      },
      "source": [
        "b_j = tf.zeros(shape =[tf.shape(X)[0],caps1_n_caps,caps2_n_caps,1,1],dtype = tf.float32)\n",
        "c_j = tf.nn.softmax(b_j,axis = 2)"
      ],
      "execution_count": 30,
      "outputs": []
    },
    {
      "cell_type": "code",
      "metadata": {
        "id": "qCyuKESwUk-7",
        "outputId": "bc84d2a1-ebda-4e81-842e-dc51dec911dd",
        "colab": {
          "base_uri": "https://localhost:8080/",
          "height": 73
        }
      },
      "source": [
        "weighted_prediction = tf.multiply(c_j,caps_predicted)\n",
        "print(weighted_prediction)\n",
        "weighted_sum = tf.reduce_sum(weighted_prediction,axis = 1,keepdims = True)\n",
        "print(weighted_sum)\n",
        "caps2_output_round_1 = squash(weighted_sum,axis = -2)\n",
        "print(caps2_output_round_1)"
      ],
      "execution_count": 46,
      "outputs": [
        {
          "output_type": "stream",
          "text": [
            "Tensor(\"Mul_5:0\", shape=(None, 1152, 10, 16, 1), dtype=float32)\n",
            "Tensor(\"Sum_3:0\", shape=(None, 1, 10, 16, 1), dtype=float32)\n",
            "Tensor(\"Squashing_4/mul:0\", shape=(None, 1, 10, 16, 1), dtype=float32)\n"
          ],
          "name": "stdout"
        }
      ]
    },
    {
      "cell_type": "markdown",
      "metadata": {
        "id": "OBAQu-2mcO7f"
      },
      "source": [
        "# Round 2 of Dynamic Routing"
      ]
    },
    {
      "cell_type": "code",
      "metadata": {
        "id": "TNlul2KBUlJD",
        "outputId": "14281cce-1cb3-4dd0-c0ab-c554c2528de4",
        "colab": {
          "base_uri": "https://localhost:8080/",
          "height": 73
        }
      },
      "source": [
        "caps2_output_round2 = tf.tile(caps2_output_round_1,[1,caps1_n_caps,1,1,1])\n",
        "print(caps2_output_round2)\n",
        "print(caps_predicted)\n",
        "agreement = tf.matmul(caps_predicted,caps2_output_round2,transpose_a = True)\n",
        "print(agreement)"
      ],
      "execution_count": 32,
      "outputs": [
        {
          "output_type": "stream",
          "text": [
            "Tensor(\"Tile_1:0\", shape=(None, 1152, 10, 16, 1), dtype=float32)\n",
            "Tensor(\"MatMul:0\", shape=(None, 1152, 10, 16, 1), dtype=float32)\n",
            "Tensor(\"MatMul_1:0\", shape=(None, 1152, 10, 1, 1), dtype=float32)\n"
          ],
          "name": "stdout"
        }
      ]
    },
    {
      "cell_type": "code",
      "metadata": {
        "id": "Wi5L4SGmeCnW",
        "outputId": "6ae238bd-9c1e-49a9-a55f-f0074c297474",
        "colab": {
          "base_uri": "https://localhost:8080/",
          "height": 73
        }
      },
      "source": [
        "raw_weight_round_2 = tf.add(agreement,b_j)\n",
        "softmax_round_2_b_j = tf.nn.softmax(raw_weight_round_2,axis = 2)\n",
        "predicted_output_round2 = tf.multiply(softmax_round_2_b_j,caps_predicted)\n",
        "print(predicted_output_round2)\n",
        "predicted_sum_round2 = tf.reduce_sum(predicted_output_round2,axis = 1 ,keepdims = True)\n",
        "print(predicted_sum_round2)\n",
        "predicted_squashed_round2 =  squash(predicted_sum_round2,axis = -2)\n",
        "print(predicted_sum_round2)\n",
        "caps2_output = predicted_squashed_round2"
      ],
      "execution_count": 33,
      "outputs": [
        {
          "output_type": "stream",
          "text": [
            "Tensor(\"Mul_1:0\", shape=(None, 1152, 10, 16, 1), dtype=float32)\n",
            "Tensor(\"Sum_1:0\", shape=(None, 1, 10, 16, 1), dtype=float32)\n",
            "Tensor(\"Sum_1:0\", shape=(None, 1, 10, 16, 1), dtype=float32)\n"
          ],
          "name": "stdout"
        }
      ]
    },
    {
      "cell_type": "code",
      "metadata": {
        "id": "lU4g4vcFUlDT"
      },
      "source": [
        "def safe_norm(s, axis=-1, epsilon=1e-9, keep_dims=False, name=None):\n",
        "    with tf.name_scope(name):\n",
        "        squared_norm = tf.reduce_sum(tf.square(s), axis=axis,\n",
        "                                     keepdims=keep_dims)\n",
        "        return tf.sqrt(squared_norm + epsilon)"
      ],
      "execution_count": 34,
      "outputs": []
    },
    {
      "cell_type": "code",
      "metadata": {
        "id": "hkAcLMOaUlB1"
      },
      "source": [
        "y_proba = safe_norm(caps2_output, axis=-2, name=\"y_proba\")"
      ],
      "execution_count": 35,
      "outputs": []
    },
    {
      "cell_type": "code",
      "metadata": {
        "id": "Z5Dc7QolYouW"
      },
      "source": [
        "y_proba_argmax = tf.argmax(y_proba, axis=2, name=\"y_proba\")"
      ],
      "execution_count": 36,
      "outputs": []
    },
    {
      "cell_type": "code",
      "metadata": {
        "id": "Egy6qkNQYwqA",
        "outputId": "d2a2c4aa-1c12-450c-ad70-9b219c354163",
        "colab": {
          "base_uri": "https://localhost:8080/",
          "height": 36
        }
      },
      "source": [
        "y_pred = tf.squeeze(y_proba_argmax, axis=[1,2], name=\"y_pred\")\n",
        "y_pred"
      ],
      "execution_count": 37,
      "outputs": [
        {
          "output_type": "execute_result",
          "data": {
            "text/plain": [
              "<tf.Tensor 'y_pred:0' shape=(None,) dtype=int64>"
            ]
          },
          "metadata": {
            "tags": []
          },
          "execution_count": 37
        }
      ]
    },
    {
      "cell_type": "code",
      "metadata": {
        "id": "Q3v0QjtyYzs3"
      },
      "source": [
        "y = tf.compat.v1.placeholder(shape=[None], dtype=tf.int64, name=\"y\")"
      ],
      "execution_count": 38,
      "outputs": []
    },
    {
      "cell_type": "code",
      "metadata": {
        "id": "ShbI2oGrY7eL"
      },
      "source": [
        "m_plus = 0.9\n",
        "m_minus = 0.1\n",
        "lambda_ = 0.5\n",
        "T = tf.one_hot(y, depth=caps2_n_caps, name=\"T\")"
      ],
      "execution_count": 39,
      "outputs": []
    },
    {
      "cell_type": "code",
      "metadata": {
        "id": "Hv5D5yLEZA6m"
      },
      "source": [
        "caps2_output_norm = safe_norm(caps2_output, axis=-2, keep_dims=True,\n",
        "                              name=\"caps2_output_norm\")\n",
        "present_error_raw = tf.square(tf.maximum(0., m_plus - caps2_output_norm),\n",
        "                              name=\"present_error_raw\")\n",
        "present_error = tf.reshape(present_error_raw, shape=(-1, 10),\n",
        "                           name=\"present_error\")\n",
        "absent_error_raw = tf.square(tf.maximum(0., caps2_output_norm - m_minus),\n",
        "                             name=\"absent_error_raw\")\n",
        "absent_error = tf.reshape(absent_error_raw, shape=(-1, 10),\n",
        "                          name=\"absent_error\")\n",
        "L = tf.add(T * present_error, lambda_ * (1.0 - T) * absent_error,\n",
        "           name=\"L\")\n",
        "\n",
        "margin_loss = tf.reduce_mean(tf.reduce_sum(L, axis=1), name=\"margin_loss\")"
      ],
      "execution_count": 40,
      "outputs": []
    },
    {
      "cell_type": "code",
      "metadata": {
        "id": "GjxCNdzvZHkK"
      },
      "source": [
        "alpha = 0.0005\n",
        "loss = margin_loss\n",
        "correct = tf.equal(y, y_pred, name=\"correct\")\n",
        "accuracy = tf.reduce_mean(tf.cast(correct, tf.float32), name=\"accuracy\")\n",
        "\n",
        "\n",
        "optimizer = tf.compat.v1.train.AdamOptimizer(learning_rate=0.0001)\n",
        "training_op = optimizer.minimize(loss, name=\"training_op\")\n",
        "\n",
        "init = tf.compat.v1.global_variables_initializer()\n",
        "saver = tf.compat.v1.train.Saver()"
      ],
      "execution_count": 44,
      "outputs": []
    },
    {
      "cell_type": "code",
      "metadata": {
        "id": "WhnnHoc7Za6H",
        "outputId": "059ac370-0c6c-454b-8581-4fa3529908c5",
        "colab": {
          "base_uri": "https://localhost:8080/",
          "height": 204
        }
      },
      "source": [
        "n_epochs = 10\n",
        "batch_size = 128\n",
        "restore_checkpoint = True\n",
        "\n",
        "n_iterations_per_epoch = x_train.shape[0]//batch_size\n",
        "n_iterations_validation = x_val.shape[0]//batch_size\n",
        "best_loss_val = np.infty\n",
        "checkpoint_path = \"./my_capsule_network\"\n",
        "\n",
        "with tf.compat.v1.Session() as sess:\n",
        "    if restore_checkpoint and tf.compat.v1.train.checkpoint_exists(checkpoint_path):\n",
        "        saver.restore(sess, checkpoint_path)\n",
        "    else:\n",
        "        init.run()\n",
        "\n",
        "    for epoch in range(n_epochs):\n",
        "        for iteration in range(1, n_iterations_per_epoch):\n",
        "            X_batch, y_batch = x_train[iteration*batch_size:(iteration+1)*batch_size],y_train[iteration*batch_size:(iteration+1)*batch_size]\n",
        "            _, loss_train = sess.run(\n",
        "                [training_op, loss],\n",
        "                feed_dict={X: X_batch.reshape([-1, 28, 28, 1]),\n",
        "                           y: y_batch})\n",
        "            print(\"\\rIteration: {}/{} ({:.1f}%)  Loss: {:.5f}\".format(\n",
        "                      iteration, n_iterations_per_epoch,\n",
        "                      iteration * 100 / n_iterations_per_epoch,\n",
        "                      loss_train),\n",
        "                  end=\"\")\n",
        "        loss_vals = []\n",
        "        acc_vals = []\n",
        "        for iteration in range(1, n_iterations_validation + 1):\n",
        "            X_batch, y_batch = x_val[iteration*batch_size:(iteration+1)*batch_size],y_val[iteration*batch_size:(iteration+1)*batch_size]\n",
        "            loss_val, acc_val = sess.run(\n",
        "                    [loss, accuracy],\n",
        "                    feed_dict={X: X_batch.reshape([-1, 28, 28, 1]),\n",
        "                               y: y_batch})\n",
        "            loss_vals.append(loss_val)\n",
        "            acc_vals.append(acc_val)\n",
        "            print(\"\\rEvaluating the model: {}/{} ({:.1f}%)\".format(\n",
        "                      iteration, n_iterations_validation,\n",
        "                      iteration * 100 / n_iterations_validation),\n",
        "                  end=\" \" * 10)\n",
        "        loss_val = np.mean(loss_vals)\n",
        "        acc_val = np.mean(acc_vals)\n",
        "        print(\"\\rEpoch: {}  Val accuracy: {:.4f}%  Loss: {:.6f}{}\".format(\n",
        "            epoch + 1, acc_val * 100, loss_val,\n",
        "            \" (improved)\" if loss_val < best_loss_val else \"\"))\n",
        "\n",
        "        # And save the model if it improved:\n",
        "        if loss_val < best_loss_val:\n",
        "            save_path = saver.save(sess, checkpoint_path)\n",
        "            best_loss_val = loss_val"
      ],
      "execution_count": 45,
      "outputs": [
        {
          "output_type": "stream",
          "text": [
            "Epoch: 1  Val accuracy: 98.1571%  Loss: 0.035211 (improved)\n",
            "Epoch: 2  Val accuracy: 98.7380%  Loss: 0.023332 (improved)\n",
            "Epoch: 3  Val accuracy: 98.9383%  Loss: 0.018704 (improved)\n",
            "Epoch: 4  Val accuracy: 99.0385%  Loss: 0.015608 (improved)\n",
            "Epoch: 5  Val accuracy: 99.0986%  Loss: 0.014120 (improved)\n",
            "Epoch: 6  Val accuracy: 99.0385%  Loss: 0.014714\n",
            "Epoch: 7  Val accuracy: 99.0785%  Loss: 0.013020 (improved)\n",
            "Epoch: 8  Val accuracy: 99.1386%  Loss: 0.012062 (improved)\n",
            "Epoch: 9  Val accuracy: 99.1587%  Loss: 0.011766 (improved)\n",
            "Epoch: 10  Val accuracy: 99.2188%  Loss: 0.011878\n"
          ],
          "name": "stdout"
        }
      ]
    },
    {
      "cell_type": "code",
      "metadata": {
        "id": "zgcshcieZ4XD"
      },
      "source": [
        ""
      ],
      "execution_count": null,
      "outputs": []
    }
  ]
}